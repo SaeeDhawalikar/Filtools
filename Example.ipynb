{
 "cells": [
  {
   "cell_type": "code",
   "execution_count": 10,
   "id": "4c26bbdf",
   "metadata": {},
   "outputs": [],
   "source": [
    "import numpy as np\n",
    "import matplotlib.pyplot as plt\n",
    "import pretty\n",
    "from matplotlib import colors\n",
    "import pandas as pd\n",
    "import time\n",
    "import sys"
   ]
  },
  {
   "cell_type": "code",
   "execution_count": 11,
   "id": "003ee375",
   "metadata": {},
   "outputs": [],
   "source": [
    "from FilGen import filament_models\n",
    "from FilAPT import ComputeCurvature, ExtractProfiles, SmoothSpine"
   ]
  },
  {
   "cell_type": "markdown",
   "id": "161ddaf5",
   "metadata": {},
   "source": [
    "# FilGen"
   ]
  },
  {
   "cell_type": "code",
   "execution_count": 12,
   "id": "8c74b266",
   "metadata": {},
   "outputs": [],
   "source": [
    "lbox=30\n",
    "pbc=False\n",
    "mp=1\n",
    "Om=0.3\n",
    "seed=1"
   ]
  },
  {
   "cell_type": "code",
   "execution_count": 13,
   "id": "58d6e8f5",
   "metadata": {},
   "outputs": [],
   "source": [
    "FM=filament_models(lbox=lbox, pbc=pbc, mp=mp, Om=Om, seed=seed)"
   ]
  },
  {
   "cell_type": "code",
   "execution_count": null,
   "id": "8cc905cc",
   "metadata": {},
   "outputs": [],
   "source": []
  }
 ],
 "metadata": {
  "kernelspec": {
   "display_name": "Python 3 (ipykernel)",
   "language": "python",
   "name": "python3"
  },
  "language_info": {
   "codemirror_mode": {
    "name": "ipython",
    "version": 3
   },
   "file_extension": ".py",
   "mimetype": "text/x-python",
   "name": "python",
   "nbconvert_exporter": "python",
   "pygments_lexer": "ipython3",
   "version": "3.9.12"
  }
 },
 "nbformat": 4,
 "nbformat_minor": 5
}
